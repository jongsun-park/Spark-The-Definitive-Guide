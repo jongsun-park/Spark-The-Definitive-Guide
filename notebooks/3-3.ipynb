{
 "cells": [
  {
   "cell_type": "code",
   "execution_count": 1,
   "metadata": {},
   "outputs": [
    {
     "name": "stderr",
     "output_type": "stream",
     "text": [
      "Setting default log level to \"WARN\".\n",
      "To adjust logging level use sc.setLogLevel(newLevel). For SparkR, use setLogLevel(newLevel).\n",
      "25/03/02 23:32:50 WARN NativeCodeLoader: Unable to load native-hadoop library for your platform... using builtin-java classes where applicable\n",
      "25/03/02 23:32:51 WARN Utils: Service 'SparkUI' could not bind on port 4040. Attempting port 4041.\n"
     ]
    }
   ],
   "source": [
    "from pyspark.sql import SparkSession\n",
    "# Create Spark session\n",
    "spark = SparkSession.builder.appName(\"MyApp\").getOrCreate()"
   ]
  },
  {
   "cell_type": "code",
   "execution_count": 3,
   "metadata": {},
   "outputs": [
    {
     "name": "stderr",
     "output_type": "stream",
     "text": [
      "                                                                                \r"
     ]
    }
   ],
   "source": [
    "staticDataFrame = spark.read.format(\"csv\")\\\n",
    "  .option(\"header\", \"true\")\\\n",
    "  .option(\"inferSchema\", \"true\")\\\n",
    "  .load(\"../data/retail-data/by-day/*.csv\")\n",
    "\n",
    "staticDataFrame.createOrReplaceTempView(\"retail_data\")\n",
    "staticSchema = staticDataFrame.schema"
   ]
  },
  {
   "cell_type": "code",
   "execution_count": 4,
   "metadata": {},
   "outputs": [
    {
     "data": {
      "text/plain": [
       "StructType([StructField('InvoiceNo', StringType(), True), StructField('StockCode', StringType(), True), StructField('Description', StringType(), True), StructField('Quantity', IntegerType(), True), StructField('InvoiceDate', TimestampType(), True), StructField('UnitPrice', DoubleType(), True), StructField('CustomerID', DoubleType(), True), StructField('Country', StringType(), True)])"
      ]
     },
     "execution_count": 4,
     "metadata": {},
     "output_type": "execute_result"
    }
   ],
   "source": [
    "staticSchema"
   ]
  },
  {
   "cell_type": "markdown",
   "metadata": {},
   "source": [
    "시계열 데이터 분석\n",
    "- 데이터를 그룹화하고 집계하는 방법 필요\n",
    "- 특정 고객이 대량으로 구매하는 영업 시간을 고려\n",
    "- ex. 구매비용 컬럼을 추가하고 고객이 가장 많이 소비한 날을 찾음\n",
    "\n",
    "윈도우 함수\n",
    "- 집계 시 시계열 컬럼을 기준으로 각 날짜에 대한 전체 데이터를 가지는 윈도우를 구성\n",
    "- 윈도우: 간격을 통해 처리 요건을 명시\n",
    "\n",
    "스파크\n",
    "- 관련 날짜의 데이터를 그룹화 함\n"
   ]
  },
  {
   "cell_type": "code",
   "execution_count": null,
   "metadata": {},
   "outputs": [
    {
     "name": "stderr",
     "output_type": "stream",
     "text": [
      "[Stage 4:>                                                        (0 + 10) / 10]\r"
     ]
    },
    {
     "name": "stdout",
     "output_type": "stream",
     "text": [
      "+----------+--------------------+-----------------+\n",
      "|CustomerId|              window|  sum(total_cost)|\n",
      "+----------+--------------------+-----------------+\n",
      "|   16057.0|{2011-12-05 00:00...|            -37.6|\n",
      "|   14126.0|{2011-11-29 00:00...|643.6300000000001|\n",
      "|   13500.0|{2011-11-16 00:00...|497.9700000000001|\n",
      "|   17160.0|{2011-11-08 00:00...|516.8499999999999|\n",
      "|   15608.0|{2011-11-11 00:00...|            122.4|\n",
      "+----------+--------------------+-----------------+\n",
      "only showing top 5 rows\n",
      "\n"
     ]
    },
    {
     "name": "stderr",
     "output_type": "stream",
     "text": [
      "                                                                                \r"
     ]
    }
   ],
   "source": [
    "from pyspark.sql.functions import window, col\n",
    "\n",
    "# 고객별 하루 단위 총 지출\"을 계산하는 코드입니다.\n",
    "# 즉, 같은 고객(CustomerId)의 구매 내역을 하루 단위로 묶어서 총 비용을 계산합니다.\n",
    "# 이를 위해 window 함수를 사용하여 날짜(InvoiceDate)를 기준으로 \"1일 단위\"의 시간 창(Window)을 생성합니다.\n",
    "# 이후, 고객별(CustomerId) 및 날짜별(InvoiceDate) 총 비용(total_cost)을 계산합니다.\n",
    "# 마지막으로, 상위 5개의 결과를 출력합니다.\n",
    "\n",
    "staticDataFrame\\\n",
    "  .selectExpr(\n",
    "    \"CustomerId\",\n",
    "    \"(UnitPrice * Quantity) as total_cost\",\n",
    "    \"InvoiceDate\")\\\n",
    "  .groupBy(\n",
    "    col(\"CustomerId\"), window(col(\"InvoiceDate\"), \"1 day\"))\\\n",
    "  .sum(\"total_cost\")\\\n",
    "  .show(5)  \n"
   ]
  },
  {
   "cell_type": "code",
   "execution_count": 10,
   "metadata": {},
   "outputs": [],
   "source": [
    "# 로컬 모드에 적합한 셔플 파티션 수 설정: 5 (기본값: 200)\n",
    "\n",
    "spark.conf.set(\"spark.sql.shuffle.partitions\", \"5\")"
   ]
  },
  {
   "cell_type": "code",
   "execution_count": 11,
   "metadata": {},
   "outputs": [],
   "source": [
    "# 스트리밍 코드\n",
    "# read -> readStream\n",
    "# maxFilesPerTrigger: 한 번에 읽을 파일 수 설정\n",
    "\n",
    "streamingDataFrame = spark.readStream\\\n",
    "  .schema(staticSchema)\\\n",
    "  .option(\"maxFilesPerTrigger\", 1)\\\n",
    "  .format(\"csv\")\\\n",
    "  .option(\"header\", \"true\")\\\n",
    "  .load(\"../data/retail-data/by-day/*.csv\")"
   ]
  },
  {
   "cell_type": "code",
   "execution_count": 13,
   "metadata": {},
   "outputs": [
    {
     "data": {
      "text/plain": [
       "True"
      ]
     },
     "execution_count": 13,
     "metadata": {},
     "output_type": "execute_result"
    }
   ],
   "source": [
    "# 데이터프레임 스트리밍 유형인지 확인\n",
    "streamingDataFrame.isStreaming"
   ]
  },
  {
   "cell_type": "code",
   "execution_count": 14,
   "metadata": {},
   "outputs": [],
   "source": [
    "# 총 판매 금액 계산\n",
    "purchaseByCustomerPerHour = streamingDataFrame\\\n",
    "  .selectExpr(\n",
    "    \"CustomerId\",\n",
    "    \"(UnitPrice * Quantity) as total_cost\",\n",
    "    \"InvoiceDate\")\\\n",
    "  .groupBy(\n",
    "    col(\"CustomerId\"), window(col(\"InvoiceDate\"), \"1 day\"))\\\n",
    "  .sum(\"total_cost\")"
   ]
  },
  {
   "cell_type": "markdown",
   "metadata": {},
   "source": [
    "지연 연산 -> 스트리밍 액션 호출\n",
    "\n",
    "스트리밍 액션\n",
    "- 트리거가 실행된 다음 데이터를 갱신하게 될 인메모리 테이블에 데이터를 저장한다.\n",
    "- 예제. 파일마다 트리거를 실행\n",
    "- 이전 집계값보다 더 큰 값이 발생한 경우에만 인메모리 테이블을 갱신한다."
   ]
  },
  {
   "cell_type": "code",
   "execution_count": null,
   "metadata": {},
   "outputs": [],
   "source": [
    "purchaseByCustomerPerHour.writeStream\\\n",
    "  .format(\"memory\")\\\n",
    "  .queryName(\"customer_purchases\")\\\n",
    "  .outputMode(\"complete\")\\\n",
    "  .start()"
   ]
  },
  {
   "cell_type": "code",
   "execution_count": null,
   "metadata": {},
   "outputs": [],
   "source": [
    "# purchaseByCustomerPerHour.writeStream\\\n",
    "#   .format(\"memory\")\\ // memory: 테이블을 메모리에 저장\n",
    "#   .queryName(\"customer_purchases\")\\ // 인메모리에 저장된 테이블명\n",
    "#   .outputMode(\"complete\")\\ // complete: 모든 카운트 수행 결과를 테이블에 저장\n",
    "#   .start()"
   ]
  },
  {
   "cell_type": "code",
   "execution_count": 17,
   "metadata": {},
   "outputs": [
    {
     "name": "stdout",
     "output_type": "stream",
     "text": [
      "+----------+--------------------+------------------+\n",
      "|CustomerId|              window|   sum(total_cost)|\n",
      "+----------+--------------------+------------------+\n",
      "|      NULL|{2011-03-29 01:00...| 33521.39999999998|\n",
      "|      NULL|{2010-12-21 00:00...|31347.479999999938|\n",
      "|   18102.0|{2010-12-07 00:00...|          25920.37|\n",
      "|      NULL|{2010-12-10 00:00...|25399.560000000012|\n",
      "|      NULL|{2010-12-17 00:00...|25371.769999999768|\n",
      "+----------+--------------------+------------------+\n",
      "only showing top 5 rows\n",
      "\n"
     ]
    }
   ],
   "source": [
    "# 스트림이 시작되면 실행 결과가 어떠한 형태로 인메모리 테이블에 저장되는지 확인\n",
    "spark.sql(\"\"\"\n",
    "  SELECT *\n",
    "  FROM customer_purchases\n",
    "  ORDER BY `sum(total_cost)` DESC\n",
    "  \"\"\")\\\n",
    "  .show(5)"
   ]
  }
 ],
 "metadata": {
  "kernelspec": {
   "display_name": "Python 3",
   "language": "python",
   "name": "python3"
  },
  "language_info": {
   "codemirror_mode": {
    "name": "ipython",
    "version": 3
   },
   "file_extension": ".py",
   "mimetype": "text/x-python",
   "name": "python",
   "nbconvert_exporter": "python",
   "pygments_lexer": "ipython3",
   "version": "3.13.1"
  }
 },
 "nbformat": 4,
 "nbformat_minor": 2
}
